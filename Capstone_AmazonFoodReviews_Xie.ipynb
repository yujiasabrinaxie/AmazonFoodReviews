{
 "cells": [
  {
   "attachments": {},
   "cell_type": "markdown",
   "metadata": {},
   "source": [
    "\n",
    "# Amazon Fine Food Reviews\n",
    "\n",
    "## Introduction\n",
    "\n",
    "### Initial goals\n",
    "\n",
    "1. Perform some basic exploratory analysis to better understand reviews\n",
    "2. What's in a review? Is it positive or negative?\n",
    "3. What relationships exist between factors?\n",
    "\n",
    "Note: This notebook is inspired from the [Exploratory visualization of Amazon fine food reviews by Rob Castellano](https://nycdatascience.com/blog/student-works/amazon-fine-foods-visualization/)\n",
    "\n",
    "\n",
    "### Data Extraction  \n",
    "\n",
    "* Data source: (https://www.kaggle.com/snap/amazon-fine-food-reviews)\n",
    "* About the data attributes\n",
    "\n",
    " * Score(Rating 1-5 stars)\n",
    " * The reivew\n",
    " * A summary of the review\n",
    " * Number of users who found the review helpful\n",
    " * Number of users who indicated whether they found the review helpful\n",
    " * Timestamp for the review \n",
    " * Unqiue identifier for the user\n",
    " * Unique identifier for the product\n",
    "\n",
    "All data in one excel file.568,454 food reviews Amazon users left up to October 2012.\n"
   ]
  },
  {
   "cell_type": "code",
   "execution_count": 129,
   "metadata": {},
   "outputs": [
    {
     "data": {
      "text/html": [
       "<div>\n",
       "<style scoped>\n",
       "    .dataframe tbody tr th:only-of-type {\n",
       "        vertical-align: middle;\n",
       "    }\n",
       "\n",
       "    .dataframe tbody tr th {\n",
       "        vertical-align: top;\n",
       "    }\n",
       "\n",
       "    .dataframe thead th {\n",
       "        text-align: right;\n",
       "    }\n",
       "</style>\n",
       "<table border=\"1\" class=\"dataframe\">\n",
       "  <thead>\n",
       "    <tr style=\"text-align: right;\">\n",
       "      <th></th>\n",
       "      <th>Id</th>\n",
       "      <th>ProductId</th>\n",
       "      <th>UserId</th>\n",
       "      <th>ProfileName</th>\n",
       "      <th>HelpfulnessNumerator</th>\n",
       "      <th>HelpfulnessDenominator</th>\n",
       "      <th>Score</th>\n",
       "      <th>Time</th>\n",
       "      <th>Summary</th>\n",
       "      <th>Text</th>\n",
       "    </tr>\n",
       "  </thead>\n",
       "  <tbody>\n",
       "    <tr>\n",
       "      <th>0</th>\n",
       "      <td>1</td>\n",
       "      <td>B001E4KFG0</td>\n",
       "      <td>A3SGXH7AUHU8GW</td>\n",
       "      <td>delmartian</td>\n",
       "      <td>1</td>\n",
       "      <td>1</td>\n",
       "      <td>5</td>\n",
       "      <td>1303862400</td>\n",
       "      <td>Good Quality Dog Food</td>\n",
       "      <td>I have bought several of the Vitality canned d...</td>\n",
       "    </tr>\n",
       "    <tr>\n",
       "      <th>1</th>\n",
       "      <td>2</td>\n",
       "      <td>B00813GRG4</td>\n",
       "      <td>A1D87F6ZCVE5NK</td>\n",
       "      <td>dll pa</td>\n",
       "      <td>0</td>\n",
       "      <td>0</td>\n",
       "      <td>1</td>\n",
       "      <td>1346976000</td>\n",
       "      <td>Not as Advertised</td>\n",
       "      <td>Product arrived labeled as Jumbo Salted Peanut...</td>\n",
       "    </tr>\n",
       "    <tr>\n",
       "      <th>2</th>\n",
       "      <td>3</td>\n",
       "      <td>B000LQOCH0</td>\n",
       "      <td>ABXLMWJIXXAIN</td>\n",
       "      <td>Natalia Corres \"Natalia Corres\"</td>\n",
       "      <td>1</td>\n",
       "      <td>1</td>\n",
       "      <td>4</td>\n",
       "      <td>1219017600</td>\n",
       "      <td>\"Delight\" says it all</td>\n",
       "      <td>This is a confection that has been around a fe...</td>\n",
       "    </tr>\n",
       "    <tr>\n",
       "      <th>3</th>\n",
       "      <td>4</td>\n",
       "      <td>B000UA0QIQ</td>\n",
       "      <td>A395BORC6FGVXV</td>\n",
       "      <td>Karl</td>\n",
       "      <td>3</td>\n",
       "      <td>3</td>\n",
       "      <td>2</td>\n",
       "      <td>1307923200</td>\n",
       "      <td>Cough Medicine</td>\n",
       "      <td>If you are looking for the secret ingredient i...</td>\n",
       "    </tr>\n",
       "    <tr>\n",
       "      <th>4</th>\n",
       "      <td>5</td>\n",
       "      <td>B006K2ZZ7K</td>\n",
       "      <td>A1UQRSCLF8GW1T</td>\n",
       "      <td>Michael D. Bigham \"M. Wassir\"</td>\n",
       "      <td>0</td>\n",
       "      <td>0</td>\n",
       "      <td>5</td>\n",
       "      <td>1350777600</td>\n",
       "      <td>Great taffy</td>\n",
       "      <td>Great taffy at a great price.  There was a wid...</td>\n",
       "    </tr>\n",
       "  </tbody>\n",
       "</table>\n",
       "</div>"
      ],
      "text/plain": [
       "   Id   ProductId          UserId                      ProfileName  \\\n",
       "0   1  B001E4KFG0  A3SGXH7AUHU8GW                       delmartian   \n",
       "1   2  B00813GRG4  A1D87F6ZCVE5NK                           dll pa   \n",
       "2   3  B000LQOCH0   ABXLMWJIXXAIN  Natalia Corres \"Natalia Corres\"   \n",
       "3   4  B000UA0QIQ  A395BORC6FGVXV                             Karl   \n",
       "4   5  B006K2ZZ7K  A1UQRSCLF8GW1T    Michael D. Bigham \"M. Wassir\"   \n",
       "\n",
       "   HelpfulnessNumerator  HelpfulnessDenominator  Score        Time  \\\n",
       "0                     1                       1      5  1303862400   \n",
       "1                     0                       0      1  1346976000   \n",
       "2                     1                       1      4  1219017600   \n",
       "3                     3                       3      2  1307923200   \n",
       "4                     0                       0      5  1350777600   \n",
       "\n",
       "                 Summary                                               Text  \n",
       "0  Good Quality Dog Food  I have bought several of the Vitality canned d...  \n",
       "1      Not as Advertised  Product arrived labeled as Jumbo Salted Peanut...  \n",
       "2  \"Delight\" says it all  This is a confection that has been around a fe...  \n",
       "3         Cough Medicine  If you are looking for the secret ingredient i...  \n",
       "4            Great taffy  Great taffy at a great price.  There was a wid...  "
      ]
     },
     "execution_count": 129,
     "metadata": {},
     "output_type": "execute_result"
    }
   ],
   "source": [
    "import numpy as np\n",
    "import pandas as pd\n",
    "import sklearn\n",
    "import matplotlib.pyplot as plt\n",
    "import sqlite3 as sql\n",
    "import seaborn as sns\n",
    "from sklearn.model_selection import train_test_split\n",
    "from sklearn import model_selection\n",
    "import statsmodels.api as smf\n",
    "from sklearn.feature_extraction.text import CountVectorizer\n",
    "from sklearn.linear_model import LogisticRegression\n",
    "from sklearn.metrics import roc_auc_score\n",
    "from patsy import dmatrices\n",
    "\n",
    "#retrieve data from dropbox file\n",
    "df = pd.read_csv('https://www.dropbox.com/s/w5kkg7svxk7ssec/Reviews.csv?dl=1')\n",
    "df.head()"
   ]
  },
  {
   "cell_type": "code",
   "execution_count": 130,
   "metadata": {},
   "outputs": [
    {
     "data": {
      "text/plain": [
       "(568454, 10)"
      ]
     },
     "execution_count": 130,
     "metadata": {},
     "output_type": "execute_result"
    }
   ],
   "source": [
    "# observing the shape\n",
    "df.shape"
   ]
  },
  {
   "cell_type": "markdown",
   "metadata": {},
   "source": [
    "#### Due to memory limits , I can only randomly select 3% of the original Amazon food reviews dataset here "
   ]
  },
  {
   "cell_type": "code",
   "execution_count": 177,
   "metadata": {},
   "outputs": [],
   "source": [
    "df1 = df.sample(frac=0.03,replace= False)"
   ]
  },
  {
   "cell_type": "code",
   "execution_count": 178,
   "metadata": {
    "scrolled": true
   },
   "outputs": [
    {
     "name": "stdout",
     "output_type": "stream",
     "text": [
      "<class 'pandas.core.frame.DataFrame'>\n",
      "Int64Index: 17054 entries, 203566 to 109404\n",
      "Data columns (total 10 columns):\n",
      "Id                        17054 non-null int64\n",
      "ProductId                 17054 non-null object\n",
      "UserId                    17054 non-null object\n",
      "ProfileName               17054 non-null object\n",
      "HelpfulnessNumerator      17054 non-null int64\n",
      "HelpfulnessDenominator    17054 non-null int64\n",
      "Score                     17054 non-null int64\n",
      "Time                      17054 non-null int64\n",
      "Summary                   17053 non-null object\n",
      "Text                      17054 non-null object\n",
      "dtypes: int64(5), object(5)\n",
      "memory usage: 1.4+ MB\n"
     ]
    }
   ],
   "source": [
    "# check missing values\n",
    "df1.info()"
   ]
  },
  {
   "cell_type": "markdown",
   "metadata": {},
   "source": [
    "## Exploratory analysis"
   ]
  },
  {
   "cell_type": "markdown",
   "metadata": {},
   "source": [
    "###  Distribution of ratings\n",
    "* It shows that 5 star reviews consititute a large proportion, the next prevalent rating is 4-stars."
   ]
  },
  {
   "cell_type": "code",
   "execution_count": 179,
   "metadata": {},
   "outputs": [
    {
     "data": {
      "image/png": "[encoded data removed]",
      "text/plain": [
       "<Figure size 432x288 with 1 Axes>"
      ]
     },
     "metadata": {},
     "output_type": "display_data"
    }
   ],
   "source": [
    "plt.figure()\n",
    "sns.countplot(x='Score', data=df1, palette='muted')\n",
    "plt.xlabel('Score (Rating)')\n",
    "plt.show()"
   ]
  },
  {
   "cell_type": "markdown",
   "metadata": {},
   "source": [
    "\n",
    "### How many reviews are positive?\n",
    "\n",
    "* Score >3 then 'positive',Score < 3 then 'negative', Score = 3 then 'neutral' \n",
    "* Posititive reviews are very common "
   ]
  },
  {
   "cell_type": "code",
   "execution_count": 194,
   "metadata": {},
   "outputs": [
    {
     "data": {
      "text/plain": [
       "positive    13321\n",
       "negative     2467\n",
       "neutral      1266\n",
       "Name: Positivity, dtype: int64"
      ]
     },
     "execution_count": 194,
     "metadata": {},
     "output_type": "execute_result"
    },
    {
     "data": {
      "image/png": "[encoded data removed]",
      "text/plain": [
       "<Figure size 432x288 with 1 Axes>"
      ]
     },
     "metadata": {},
     "output_type": "display_data"
    }
   ],
   "source": [
    "\n",
    "df2=df1.loc[:,['UserId','HelpfulnessNumerator','HelpfulnessDenominator', 'Summary','Text','Score']]\n",
    "df2['Positivity']= df2['Score'].apply(lambda score: \"positive\" if score >3 else \"negative\" if score <3 else \"neutral\")\n",
    "\n",
    "# plot the count for \"Positivity\"\n",
    "sns.countplot(x='Positivity',data = df2,order=['positive','negative','neutral'],palette=\"husl\")\n",
    "plt.title('Distribution of Positivity')\n",
    "df2['Positivity'].value_counts()"
   ]
  },
  {
   "cell_type": "markdown",
   "metadata": {},
   "source": [
    "### How many reviews are helpful? \n",
    "\n",
    "* Among all reviews, almost half are not voted at all. \n",
    "* For voted reviews, helpful reviews are the most common."
   ]
  },
  {
   "cell_type": "code",
   "execution_count": 195,
   "metadata": {},
   "outputs": [
    {
     "data": {
      "text/plain": [
       "No Indication    8115\n",
       ">75%             6062\n",
       "25-75%           1724\n",
       "<25%             1153\n",
       "Name: Helpfulness, dtype: int64"
      ]
     },
     "execution_count": 195,
     "metadata": {},
     "output_type": "execute_result"
    },
    {
     "data": {
      "image/png": "[encoded data removed]",
      "text/plain": [
       "<Figure size 432x288 with 1 Axes>"
      ]
     },
     "metadata": {},
     "output_type": "display_data"
    }
   ],
   "source": [
    "# check the value count for \"helpfulness\" \n",
    "\n",
    "df2['Helpfulness']= (df2[\"HelpfulnessNumerator\"]/df2[\"HelpfulnessDenominator\"]).apply\\\n",
    "(lambda n:\">75%\" if n > 0.75 else (\"25-75%\" if n >= 0.25 and n<=0.75 else (\"<25%\" if n<0.25 else \"No Indication\")))\n",
    "df2['Helpfulness'].value_counts()\n",
    "sns.countplot(x='Helpfulness',order=['>75%',\"25-75%\",'<25%'],data = df2,palette=\"muted\")\n",
    "plt.title('Distribution of Helpfulness') \n",
    "df2['Helpfulness'].value_counts()\n"
   ]
  },
  {
   "cell_type": "markdown",
   "metadata": {},
   "source": [
    "### How do ratings affect helpfulness?\n",
    "\n",
    "* The reviews become more helpful as the rating becomes more positive."
   ]
  },
  {
   "cell_type": "code",
   "execution_count": 196,
   "metadata": {},
   "outputs": [
    {
     "data": {
      "text/plain": [
       "Text(0.5,1,'Helpfulness by Scores')"
      ]
     },
     "execution_count": 196,
     "metadata": {},
     "output_type": "execute_result"
    },
    {
     "data": {
      "image/png": "[encoded data removed]",
      "text/plain": [
       "<Figure size 432x288 with 1 Axes>"
      ]
     },
     "metadata": {},
     "output_type": "display_data"
    }
   ],
   "source": [
    "sns.countplot(x=\"Score\", hue=\"Helpfulness\",hue_order=['>75%', '<25%'], data= df2,palette=\"muted\")\n",
    "plt.xlabel('Scores')\n",
    "plt.title('Helpfulness by Scores')"
   ]
  },
  {
   "cell_type": "markdown",
   "metadata": {},
   "source": [
    "### Word count\n",
    "\n",
    "* The more positive reviews had the lowest median word count."
   ]
  },
  {
   "cell_type": "code",
   "execution_count": 198,
   "metadata": {},
   "outputs": [
    {
     "data": {
      "text/plain": [
       "Text(0.5,1,'Word Count by Rating')"
      ]
     },
     "execution_count": 198,
     "metadata": {},
     "output_type": "execute_result"
    },
    {
     "data": {
      "image/png": "[encoded data removed]",
      "text/plain": [
       "<Figure size 432x288 with 1 Axes>"
      ]
     },
     "metadata": {},
     "output_type": "display_data"
    }
   ],
   "source": [
    "# word count\n",
    "df2['word_count']= df2['Text'].apply(lambda text: len(text.split()))\n",
    "# word count by score\n",
    "sns.boxplot(x=\"Score\", y='word_count',data= df2,palette=\"muted\",showfliers=False)\n",
    "plt.xlabel('Scores')\n",
    "plt.title('Word Count by Rating')"
   ]
  },
  {
   "cell_type": "markdown",
   "metadata": {},
   "source": [
    "### How does word count relate to helpfulness ?\n",
    "\n",
    "* Helpful reviews and not helpful reviews have a similar distribution at the greatest concentration counts.\n",
    "* Helpful reviews tend to have longer reviews compared to not helpful reviews."
   ]
  },
  {
   "cell_type": "code",
   "execution_count": 199,
   "metadata": {},
   "outputs": [
    {
     "data": {
      "text/plain": [
       "(-30, 500)"
      ]
     },
     "execution_count": 199,
     "metadata": {},
     "output_type": "execute_result"
    },
    {
     "data": {
      "image/png": "[encoded data removed]",
      "text/plain": [
       "<Figure size 432x288 with 1 Axes>"
      ]
     },
     "metadata": {},
     "output_type": "display_data"
    }
   ],
   "source": [
    "sns.violinplot(x=\"Helpfulness\", y=\"word_count\",order= ['>75%',\"<25%\"], data= df2,palette=\"muted\")\n",
    "plt.ylim(-30,500)"
   ]
  },
  {
   "cell_type": "markdown",
   "metadata": {},
   "source": [
    "## Model buidling "
   ]
  },
  {
   "cell_type": "code",
   "execution_count": 186,
   "metadata": {},
   "outputs": [
    {
     "name": "stdout",
     "output_type": "stream",
     "text": [
      "len df3 is 17054\n"
     ]
    }
   ],
   "source": [
    "df3 = df2.loc[:,['UserId','Summary','Text','Positivity']]\n",
    "total_size = len(df3)\n",
    "print 'len df3 is %d' % len(df3)\n"
   ]
  },
  {
   "cell_type": "code",
   "execution_count": 200,
   "metadata": {},
   "outputs": [
    {
     "data": {
      "text/plain": [
       "(15788, 4)"
      ]
     },
     "execution_count": 200,
     "metadata": {},
     "output_type": "execute_result"
    }
   ],
   "source": [
    "# remove all 'neutral' values\n",
    "data= df3[df3.Positivity!= 'neutral']\n",
    "data.Positivity.replace(['positive', 'negative'], [1, 0], inplace=True)\n",
    "data.shape"
   ]
  },
  {
   "cell_type": "code",
   "execution_count": 188,
   "metadata": {},
   "outputs": [],
   "source": [
    "# countvectorizer converts a collection of text documents into a matrix of token counts(see how often each word occurs)\n",
    "#  convert the text document into a matrix of token counts\n",
    "vect = CountVectorizer(analyzer = 'word',\n",
    "    lowercase = False)\n",
    "features = vect.fit_transform(\n",
    "    data.Text\n",
    ")\n",
    "\n",
    "# for easy usage\n",
    "features_nd = features.toarray() "
   ]
  },
  {
   "cell_type": "code",
   "execution_count": 212,
   "metadata": {},
   "outputs": [],
   "source": [
    "# split data into training and test sets\n",
    "from sklearn.model_selection import train_test_split\n",
    "X_train, X_test, y_train, y_test  = train_test_split(\n",
    "        features_nd, \n",
    "        data.Positivity,\n",
    "        train_size=0.70, \n",
    "        )"
   ]
  },
  {
   "cell_type": "markdown",
   "metadata": {},
   "source": [
    "## Models\n",
    "Here I will implement various models and comparing their AUC values. \n",
    "\n",
    "* Naive Bayes\n",
    "* Logistic Regression\n",
    "* Random Forest\n"
   ]
  },
  {
   "cell_type": "code",
   "execution_count": 213,
   "metadata": {},
   "outputs": [
    {
     "name": "stdout",
     "output_type": "stream",
     "text": [
      "('AUC:', 0.6972140762463344)\n"
     ]
    }
   ],
   "source": [
    "# Naive Bayes\n",
    "from sklearn.naive_bayes import MultinomialNB\n",
    "nb = MultinomialNB()\n",
    "nb.fit(X_train,y_train)\n",
    "#make predictions using vect_test\n",
    "predictions = nb.predict(X_test)\n",
    "print('AUC:',roc_auc_score(y_test, predictions))\n"
   ]
  },
  {
   "cell_type": "code",
   "execution_count": 214,
   "metadata": {},
   "outputs": [
    {
     "name": "stdout",
     "output_type": "stream",
     "text": [
      "('AUC: ', 0.7879191811476536)\n"
     ]
    }
   ],
   "source": [
    "\n",
    "# logistic Regression - train logistic regression classifier based on matrix X_train\n",
    "from sklearn.linear_model import LogisticRegression\n",
    "model= LogisticRegression()\n",
    "model.fit(X_train,y_train)\n",
    "# make prediction using X_test and compute AUC\n",
    "predictions = model.predict(X_test)\n",
    "print('AUC: ', roc_auc_score(y_test, predictions))\n",
    "\n"
   ]
  },
  {
   "cell_type": "code",
   "execution_count": 215,
   "metadata": {},
   "outputs": [
    {
     "name": "stdout",
     "output_type": "stream",
     "text": [
      "('AUC: ', 0.5984525338697559)\n"
     ]
    }
   ],
   "source": [
    "# Random Forest\n",
    "from sklearn.ensemble import RandomForestClassifier\n",
    "model = RandomForestClassifier()\n",
    "model.fit(X_train,y_train)\n",
    "# make prediction using X_test and compute AUC\n",
    "predictions = model.predict(X_test)\n",
    "print('AUC: ', roc_auc_score(y_test, predictions))\n",
    "\n"
   ]
  },
  {
   "cell_type": "markdown",
   "metadata": {},
   "source": [
    "* We can see that Logistic regression model performed better than Naive Bayes and Random Forest on the Amazon food reviews dataset.\n"
   ]
  },
  {
   "cell_type": "markdown",
   "metadata": {},
   "source": [
    "# Conclusions\n",
    "\n",
    "* Positive reviews are very common\n",
    "* Longer reviews are more helpful\n",
    "* Positive reviews are shorter\n",
    "* Positive reviews are more helpful \n",
    "\n",
    "The results are not bad but further analysis can be conducted to better understand how models make these predictions in order to improve the results."
   ]
  }
 ],
 "metadata": {
  "kernelspec": {
   "display_name": "Python 2",
   "language": "python",
   "name": "python2"
  },
  "language_info": {
   "codemirror_mode": {
    "name": "ipython",
    "version": 2
   },
   "file_extension": ".py",
   "mimetype": "text/x-python",
   "name": "python",
   "nbconvert_exporter": "python",
   "pygments_lexer": "ipython2",
   "version": "2.7.15"
  }
 },
 "nbformat": 4,
 "nbformat_minor": 2
}
